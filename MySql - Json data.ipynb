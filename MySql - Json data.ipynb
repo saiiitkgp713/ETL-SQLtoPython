{
 "cells": [
  {
   "cell_type": "code",
   "execution_count": 1,
   "id": "df4b9773",
   "metadata": {},
   "outputs": [],
   "source": [
    "# install mysql connector python if not available\n",
    "# pip install pandas mysql-connector-python"
   ]
  },
  {
   "cell_type": "code",
   "execution_count": 2,
   "id": "c76b43cf",
   "metadata": {},
   "outputs": [],
   "source": [
    "import pandas as pd\n",
    "import mysql.connector\n",
    "import warnings\n",
    "import json\n",
    "from datetime import datetime\n",
    "warnings.filterwarnings(\"ignore\")"
   ]
  },
  {
   "cell_type": "code",
   "execution_count": 3,
   "id": "b4cb1a98",
   "metadata": {},
   "outputs": [
    {
     "name": "stdout",
     "output_type": "stream",
     "text": [
      "Connected to MySQL database\n"
     ]
    }
   ],
   "source": [
    "# Replace placeholders with your MySQL credentials\n",
    "host = '127.0.0.1'\n",
    "\n",
    "# user account having access to database\n",
    "user = '*************'\n",
    "\n",
    "# authentication password for the user\n",
    "password = '***********'\n", 
    "database_name = 'northwind'\n",
    "\n",
    "# Establish a connection to the MySQL database\n",
    "try:\n",
    "    connection = mysql.connector.connect(\n",
    "        host=host,\n",
    "        user=user,\n",
    "        password=password,\n",
    "        database=database_name\n",
    "    )\n",
    "    if connection.is_connected():\n",
    "        print(\"Connected to MySQL database\")\n",
    "\n",
    "except Exception as e:\n",
    "    print(\"Error:\", str(e))"
   ]
  },
  {
   "cell_type": "code",
   "execution_count": 4,
   "id": "edbf5cac",
   "metadata": {},
   "outputs": [
    {
     "name": "stdout",
     "output_type": "stream",
     "text": [
      "Fetched 8 tables from northwind database\n"
     ]
    }
   ],
   "source": [
    "# Query to retrieve all the tables in the database\n",
    "query = \"SHOW TABLES\"\n",
    "\n",
    "# Fetch the data into a DataFrame\n",
    "try:\n",
    "    df = pd.read_sql(query, con=connection)\n",
    "    print(f\"Fetched {len(df)} tables from {database_name} database\")\n",
    "\n",
    "except Exception as e:\n",
    "    print(\"Error:\", str(e))"
   ]
  },
  {
   "cell_type": "code",
   "execution_count": 5,
   "id": "6609adab",
   "metadata": {},
   "outputs": [
    {
     "data": {
      "text/html": [
       "<div>\n",
       "<style scoped>\n",
       "    .dataframe tbody tr th:only-of-type {\n",
       "        vertical-align: middle;\n",
       "    }\n",
       "\n",
       "    .dataframe tbody tr th {\n",
       "        vertical-align: top;\n",
       "    }\n",
       "\n",
       "    .dataframe thead th {\n",
       "        text-align: right;\n",
       "    }\n",
       "</style>\n",
       "<table border=\"1\" class=\"dataframe\">\n",
       "  <thead>\n",
       "    <tr style=\"text-align: right;\">\n",
       "      <th></th>\n",
       "      <th>Tables_in_northwind</th>\n",
       "    </tr>\n",
       "  </thead>\n",
       "  <tbody>\n",
       "    <tr>\n",
       "      <th>0</th>\n",
       "      <td>categories</td>\n",
       "    </tr>\n",
       "    <tr>\n",
       "      <th>1</th>\n",
       "      <td>customers</td>\n",
       "    </tr>\n",
       "    <tr>\n",
       "      <th>2</th>\n",
       "      <td>employees</td>\n",
       "    </tr>\n",
       "    <tr>\n",
       "      <th>3</th>\n",
       "      <td>orderdetails</td>\n",
       "    </tr>\n",
       "    <tr>\n",
       "      <th>4</th>\n",
       "      <td>orders</td>\n",
       "    </tr>\n",
       "    <tr>\n",
       "      <th>5</th>\n",
       "      <td>products</td>\n",
       "    </tr>\n",
       "    <tr>\n",
       "      <th>6</th>\n",
       "      <td>shippers</td>\n",
       "    </tr>\n",
       "    <tr>\n",
       "      <th>7</th>\n",
       "      <td>suppliers</td>\n",
       "    </tr>\n",
       "  </tbody>\n",
       "</table>\n",
       "</div>"
      ],
      "text/plain": [
       "  Tables_in_northwind\n",
       "0          categories\n",
       "1           customers\n",
       "2           employees\n",
       "3        orderdetails\n",
       "4              orders\n",
       "5            products\n",
       "6            shippers\n",
       "7           suppliers"
      ]
     },
     "execution_count": 5,
     "metadata": {},
     "output_type": "execute_result"
    }
   ],
   "source": [
    "df"
   ]
  },
  {
   "cell_type": "code",
   "execution_count": 6,
   "id": "18f48a9c",
   "metadata": {},
   "outputs": [
    {
     "data": {
      "text/html": [
       "<div>\n",
       "<style scoped>\n",
       "    .dataframe tbody tr th:only-of-type {\n",
       "        vertical-align: middle;\n",
       "    }\n",
       "\n",
       "    .dataframe tbody tr th {\n",
       "        vertical-align: top;\n",
       "    }\n",
       "\n",
       "    .dataframe thead th {\n",
       "        text-align: right;\n",
       "    }\n",
       "</style>\n",
       "<table border=\"1\" class=\"dataframe\">\n",
       "  <thead>\n",
       "    <tr style=\"text-align: right;\">\n",
       "      <th></th>\n",
       "      <th>Tables_in_northwind</th>\n",
       "      <th>queries</th>\n",
       "    </tr>\n",
       "  </thead>\n",
       "  <tbody>\n",
       "    <tr>\n",
       "      <th>0</th>\n",
       "      <td>categories</td>\n",
       "      <td>SELECT * FROM categories</td>\n",
       "    </tr>\n",
       "    <tr>\n",
       "      <th>1</th>\n",
       "      <td>customers</td>\n",
       "      <td>SELECT * FROM customers</td>\n",
       "    </tr>\n",
       "    <tr>\n",
       "      <th>2</th>\n",
       "      <td>employees</td>\n",
       "      <td>SELECT * FROM employees</td>\n",
       "    </tr>\n",
       "    <tr>\n",
       "      <th>3</th>\n",
       "      <td>orderdetails</td>\n",
       "      <td>SELECT * FROM orderdetails</td>\n",
       "    </tr>\n",
       "    <tr>\n",
       "      <th>4</th>\n",
       "      <td>orders</td>\n",
       "      <td>SELECT * FROM orders</td>\n",
       "    </tr>\n",
       "    <tr>\n",
       "      <th>5</th>\n",
       "      <td>products</td>\n",
       "      <td>SELECT * FROM products</td>\n",
       "    </tr>\n",
       "    <tr>\n",
       "      <th>6</th>\n",
       "      <td>shippers</td>\n",
       "      <td>SELECT * FROM shippers</td>\n",
       "    </tr>\n",
       "    <tr>\n",
       "      <th>7</th>\n",
       "      <td>suppliers</td>\n",
       "      <td>SELECT * FROM suppliers</td>\n",
       "    </tr>\n",
       "  </tbody>\n",
       "</table>\n",
       "</div>"
      ],
      "text/plain": [
       "  Tables_in_northwind                     queries\n",
       "0          categories    SELECT * FROM categories\n",
       "1           customers     SELECT * FROM customers\n",
       "2           employees     SELECT * FROM employees\n",
       "3        orderdetails  SELECT * FROM orderdetails\n",
       "4              orders        SELECT * FROM orders\n",
       "5            products      SELECT * FROM products\n",
       "6            shippers      SELECT * FROM shippers\n",
       "7           suppliers     SELECT * FROM suppliers"
      ]
     },
     "execution_count": 6,
     "metadata": {},
     "output_type": "execute_result"
    }
   ],
   "source": [
    "# creating query column to fetch all the data from each table\n",
    "df['queries'] = \"SELECT * FROM \" + df['Tables_in_northwind']\n",
    "df"
   ]
  },
  {
   "cell_type": "markdown",
   "id": "10e266b6",
   "metadata": {},
   "source": [
    "# save entire database in json format"
   ]
  },
  {
   "cell_type": "code",
   "execution_count": 7,
   "id": "d6945100",
   "metadata": {},
   "outputs": [
    {
     "name": "stdout",
     "output_type": "stream",
     "text": [
      "Following tables were created and are grouped as list: Tables\n",
      " ['categories', 'customers', 'employees', 'orderdetails', 'orders', 'products', 'shippers', 'suppliers']\n"
     ]
    }
   ],
   "source": [
    "# define an empty list, to further append tables data\n",
    "Tables = []\n",
    "for i in range(8):\n",
    "    globals()[df['Tables_in_northwind'][i]] = pd.read_sql(df['queries'][i], con=connection)\n",
    "    Tables.append(globals()[df['Tables_in_northwind'][i]])\n",
    "print('Following tables were created and are grouped as list: Tables\\n', list(df['Tables_in_northwind']))"
   ]
  },
  {
   "cell_type": "code",
   "execution_count": 8,
   "id": "111dca72",
   "metadata": {},
   "outputs": [],
   "source": [
    "# for parsing dataframes as json, datetime columns should be converted to string type\n",
    "orders['OrderDate'] = orders['OrderDate'].astype(str)\n",
    "employees['BirthDate'] = employees['BirthDate'].astype(str)"
   ]
  },
  {
   "cell_type": "code",
   "execution_count": 9,
   "id": "770e0aac",
   "metadata": {},
   "outputs": [
    {
     "name": "stdout",
     "output_type": "stream",
     "text": [
      "List has been written to C:\\Users\\saian\\Documents\\northwind.json\n"
     ]
    }
   ],
   "source": [
    "#create and save json data to a file name northwind.json\n",
    "# Specify the file path where you want to save the JSON data\n",
    "file_path = r\"C:\\Users\\saian\\Documents\\northwind.json\"\n",
    "\n",
    "# Convert DataFrames to dictionaries\n",
    "Tables_dict_list = [table.to_dict(orient='records') for table in Tables]\n",
    "\n",
    "# Using a loop to create: dictionary with table names\n",
    "Tables_json = {}\n",
    "for i in range(8):\n",
    "    Tables_json[df['Tables_in_northwind'][i]] = Tables_dict_list[i]\n",
    "    \n",
    "    \n",
    "# Write the list of dictionaries to the JSON file\n",
    "with open(file_path, \"w\") as json_file:\n",
    "    json.dump(Tables_json, json_file)\n",
    "    \n",
    "print(f\"List has been written to {file_path}\")"
   ]
  },
  {
   "cell_type": "markdown",
   "id": "9a76a3bb",
   "metadata": {},
   "source": [
    "# Read the json file back and create tables"
   ]
  },
  {
   "cell_type": "code",
   "execution_count": 10,
   "id": "2cd4b0cc",
   "metadata": {},
   "outputs": [],
   "source": [
    "with open('northwind.json', 'r') as json_file:\n",
    "    data = json.load(json_file)"
   ]
  },
  {
   "cell_type": "code",
   "execution_count": 11,
   "id": "ae30d441",
   "metadata": {},
   "outputs": [],
   "source": [
    "# Iterate over dictionary keys and values\n",
    "for key in data.keys():\n",
    "    data[key] = pd.DataFrame(data[key])"
   ]
  },
  {
   "cell_type": "code",
   "execution_count": 12,
   "id": "d3b81c45",
   "metadata": {
    "scrolled": true
   },
   "outputs": [],
   "source": [
    "# Create variables from dictionary keys using globals()\n",
    "globals().update(data)"
   ]
  },
  {
   "cell_type": "code",
   "execution_count": 13,
   "id": "ca1099ee",
   "metadata": {},
   "outputs": [
    {
     "data": {
      "text/html": [
       "<div>\n",
       "<style scoped>\n",
       "    .dataframe tbody tr th:only-of-type {\n",
       "        vertical-align: middle;\n",
       "    }\n",
       "\n",
       "    .dataframe tbody tr th {\n",
       "        vertical-align: top;\n",
       "    }\n",
       "\n",
       "    .dataframe thead th {\n",
       "        text-align: right;\n",
       "    }\n",
       "</style>\n",
       "<table border=\"1\" class=\"dataframe\">\n",
       "  <thead>\n",
       "    <tr style=\"text-align: right;\">\n",
       "      <th></th>\n",
       "      <th>CategoryID</th>\n",
       "      <th>CategoryName</th>\n",
       "      <th>Description</th>\n",
       "    </tr>\n",
       "  </thead>\n",
       "  <tbody>\n",
       "    <tr>\n",
       "      <th>0</th>\n",
       "      <td>1</td>\n",
       "      <td>Beverages</td>\n",
       "      <td>Soft drinks, coffees, teas, beers, and ales</td>\n",
       "    </tr>\n",
       "    <tr>\n",
       "      <th>1</th>\n",
       "      <td>2</td>\n",
       "      <td>Condiments</td>\n",
       "      <td>Sweet and savory sauces, relishes, spreads, an...</td>\n",
       "    </tr>\n",
       "    <tr>\n",
       "      <th>2</th>\n",
       "      <td>3</td>\n",
       "      <td>Confections</td>\n",
       "      <td>Desserts, candies, and sweet breads</td>\n",
       "    </tr>\n",
       "    <tr>\n",
       "      <th>3</th>\n",
       "      <td>4</td>\n",
       "      <td>Dairy Products</td>\n",
       "      <td>Cheeses</td>\n",
       "    </tr>\n",
       "    <tr>\n",
       "      <th>4</th>\n",
       "      <td>5</td>\n",
       "      <td>Grains/Cereals</td>\n",
       "      <td>Breads, crackers, pasta, and cereal</td>\n",
       "    </tr>\n",
       "    <tr>\n",
       "      <th>5</th>\n",
       "      <td>6</td>\n",
       "      <td>Meat/Poultry</td>\n",
       "      <td>Prepared meats</td>\n",
       "    </tr>\n",
       "    <tr>\n",
       "      <th>6</th>\n",
       "      <td>7</td>\n",
       "      <td>Produce</td>\n",
       "      <td>Dried fruit and bean curd</td>\n",
       "    </tr>\n",
       "    <tr>\n",
       "      <th>7</th>\n",
       "      <td>8</td>\n",
       "      <td>Seafood</td>\n",
       "      <td>Seaweed and fish</td>\n",
       "    </tr>\n",
       "  </tbody>\n",
       "</table>\n",
       "</div>"
      ],
      "text/plain": [
       "   CategoryID    CategoryName  \\\n",
       "0           1       Beverages   \n",
       "1           2      Condiments   \n",
       "2           3     Confections   \n",
       "3           4  Dairy Products   \n",
       "4           5  Grains/Cereals   \n",
       "5           6    Meat/Poultry   \n",
       "6           7         Produce   \n",
       "7           8         Seafood   \n",
       "\n",
       "                                         Description  \n",
       "0        Soft drinks, coffees, teas, beers, and ales  \n",
       "1  Sweet and savory sauces, relishes, spreads, an...  \n",
       "2                Desserts, candies, and sweet breads  \n",
       "3                                            Cheeses  \n",
       "4                Breads, crackers, pasta, and cereal  \n",
       "5                                     Prepared meats  \n",
       "6                          Dried fruit and bean curd  \n",
       "7                                   Seaweed and fish  "
      ]
     },
     "execution_count": 13,
     "metadata": {},
     "output_type": "execute_result"
    }
   ],
   "source": [
    "categories"
   ]
  },
  {
   "cell_type": "code",
   "execution_count": 14,
   "id": "0a057719",
   "metadata": {},
   "outputs": [
    {
     "data": {
      "text/html": [
       "<div>\n",
       "<style scoped>\n",
       "    .dataframe tbody tr th:only-of-type {\n",
       "        vertical-align: middle;\n",
       "    }\n",
       "\n",
       "    .dataframe tbody tr th {\n",
       "        vertical-align: top;\n",
       "    }\n",
       "\n",
       "    .dataframe thead th {\n",
       "        text-align: right;\n",
       "    }\n",
       "</style>\n",
       "<table border=\"1\" class=\"dataframe\">\n",
       "  <thead>\n",
       "    <tr style=\"text-align: right;\">\n",
       "      <th></th>\n",
       "      <th>EmployeeID</th>\n",
       "      <th>LastName</th>\n",
       "      <th>FirstName</th>\n",
       "      <th>BirthDate</th>\n",
       "      <th>Photo</th>\n",
       "      <th>Notes</th>\n",
       "    </tr>\n",
       "  </thead>\n",
       "  <tbody>\n",
       "    <tr>\n",
       "      <th>0</th>\n",
       "      <td>1</td>\n",
       "      <td>Davolio</td>\n",
       "      <td>Nancy</td>\n",
       "      <td>1968-12-08</td>\n",
       "      <td>EmpID1.pic</td>\n",
       "      <td>Education includes a BA in psychology from Col...</td>\n",
       "    </tr>\n",
       "    <tr>\n",
       "      <th>1</th>\n",
       "      <td>2</td>\n",
       "      <td>Fuller</td>\n",
       "      <td>Andrew</td>\n",
       "      <td>1952-02-19</td>\n",
       "      <td>EmpID2.pic</td>\n",
       "      <td>Andrew received his BTS commercial and a Ph.D....</td>\n",
       "    </tr>\n",
       "    <tr>\n",
       "      <th>2</th>\n",
       "      <td>3</td>\n",
       "      <td>Leverling</td>\n",
       "      <td>Janet</td>\n",
       "      <td>1963-08-30</td>\n",
       "      <td>EmpID3.pic</td>\n",
       "      <td>Janet has a BS degree in chemistry from Boston...</td>\n",
       "    </tr>\n",
       "    <tr>\n",
       "      <th>3</th>\n",
       "      <td>4</td>\n",
       "      <td>Peacock</td>\n",
       "      <td>Margaret</td>\n",
       "      <td>1958-09-19</td>\n",
       "      <td>EmpID4.pic</td>\n",
       "      <td>Margaret holds a BA in English literature from...</td>\n",
       "    </tr>\n",
       "    <tr>\n",
       "      <th>4</th>\n",
       "      <td>5</td>\n",
       "      <td>Buchanan</td>\n",
       "      <td>Steven</td>\n",
       "      <td>1955-03-04</td>\n",
       "      <td>EmpID5.pic</td>\n",
       "      <td>Steven Buchanan graduated from St. Andrews Uni...</td>\n",
       "    </tr>\n",
       "  </tbody>\n",
       "</table>\n",
       "</div>"
      ],
      "text/plain": [
       "   EmployeeID   LastName FirstName   BirthDate       Photo  \\\n",
       "0           1    Davolio     Nancy  1968-12-08  EmpID1.pic   \n",
       "1           2     Fuller    Andrew  1952-02-19  EmpID2.pic   \n",
       "2           3  Leverling     Janet  1963-08-30  EmpID3.pic   \n",
       "3           4    Peacock  Margaret  1958-09-19  EmpID4.pic   \n",
       "4           5   Buchanan    Steven  1955-03-04  EmpID5.pic   \n",
       "\n",
       "                                               Notes  \n",
       "0  Education includes a BA in psychology from Col...  \n",
       "1  Andrew received his BTS commercial and a Ph.D....  \n",
       "2  Janet has a BS degree in chemistry from Boston...  \n",
       "3  Margaret holds a BA in English literature from...  \n",
       "4  Steven Buchanan graduated from St. Andrews Uni...  "
      ]
     },
     "execution_count": 14,
     "metadata": {},
     "output_type": "execute_result"
    }
   ],
   "source": [
    "employees.head()"
   ]
  },
  {
   "cell_type": "code",
   "execution_count": 15,
   "id": "168fbbae",
   "metadata": {},
   "outputs": [
    {
     "data": {
      "text/html": [
       "<div>\n",
       "<style scoped>\n",
       "    .dataframe tbody tr th:only-of-type {\n",
       "        vertical-align: middle;\n",
       "    }\n",
       "\n",
       "    .dataframe tbody tr th {\n",
       "        vertical-align: top;\n",
       "    }\n",
       "\n",
       "    .dataframe thead th {\n",
       "        text-align: right;\n",
       "    }\n",
       "</style>\n",
       "<table border=\"1\" class=\"dataframe\">\n",
       "  <thead>\n",
       "    <tr style=\"text-align: right;\">\n",
       "      <th></th>\n",
       "      <th>OrderID</th>\n",
       "      <th>CustomerID</th>\n",
       "      <th>EmployeeID</th>\n",
       "      <th>OrderDate</th>\n",
       "      <th>ShipperID</th>\n",
       "    </tr>\n",
       "  </thead>\n",
       "  <tbody>\n",
       "    <tr>\n",
       "      <th>0</th>\n",
       "      <td>10248</td>\n",
       "      <td>90</td>\n",
       "      <td>5</td>\n",
       "      <td>1996-07-04</td>\n",
       "      <td>3</td>\n",
       "    </tr>\n",
       "    <tr>\n",
       "      <th>1</th>\n",
       "      <td>10249</td>\n",
       "      <td>81</td>\n",
       "      <td>6</td>\n",
       "      <td>1996-07-05</td>\n",
       "      <td>1</td>\n",
       "    </tr>\n",
       "    <tr>\n",
       "      <th>2</th>\n",
       "      <td>10250</td>\n",
       "      <td>34</td>\n",
       "      <td>4</td>\n",
       "      <td>1996-07-08</td>\n",
       "      <td>2</td>\n",
       "    </tr>\n",
       "    <tr>\n",
       "      <th>3</th>\n",
       "      <td>10251</td>\n",
       "      <td>84</td>\n",
       "      <td>3</td>\n",
       "      <td>1996-07-08</td>\n",
       "      <td>1</td>\n",
       "    </tr>\n",
       "    <tr>\n",
       "      <th>4</th>\n",
       "      <td>10252</td>\n",
       "      <td>76</td>\n",
       "      <td>4</td>\n",
       "      <td>1996-07-09</td>\n",
       "      <td>2</td>\n",
       "    </tr>\n",
       "  </tbody>\n",
       "</table>\n",
       "</div>"
      ],
      "text/plain": [
       "   OrderID  CustomerID  EmployeeID   OrderDate  ShipperID\n",
       "0    10248          90           5  1996-07-04          3\n",
       "1    10249          81           6  1996-07-05          1\n",
       "2    10250          34           4  1996-07-08          2\n",
       "3    10251          84           3  1996-07-08          1\n",
       "4    10252          76           4  1996-07-09          2"
      ]
     },
     "execution_count": 15,
     "metadata": {},
     "output_type": "execute_result"
    }
   ],
   "source": [
    "orders.head()"
   ]
  },
  {
   "cell_type": "code",
   "execution_count": 16,
   "id": "91788bac",
   "metadata": {},
   "outputs": [],
   "source": [
    "# Convert the string to a datetime object\n",
    "orders['OrderDate'] = pd.to_datetime(orders['OrderDate'])\n",
    "employees['BirthDate'] = pd.to_datetime(employees['BirthDate'])"
   ]
  },
  {
   "cell_type": "code",
   "execution_count": 17,
   "id": "5bcb088f",
   "metadata": {},
   "outputs": [
    {
     "name": "stdout",
     "output_type": "stream",
     "text": [
      "<class 'pandas.core.frame.DataFrame'>\n",
      "RangeIndex: 196 entries, 0 to 195\n",
      "Data columns (total 5 columns):\n",
      " #   Column      Non-Null Count  Dtype         \n",
      "---  ------      --------------  -----         \n",
      " 0   OrderID     196 non-null    int64         \n",
      " 1   CustomerID  196 non-null    int64         \n",
      " 2   EmployeeID  196 non-null    int64         \n",
      " 3   OrderDate   196 non-null    datetime64[ns]\n",
      " 4   ShipperID   196 non-null    int64         \n",
      "dtypes: datetime64[ns](1), int64(4)\n",
      "memory usage: 7.8 KB\n"
     ]
    }
   ],
   "source": [
    "orders.info()"
   ]
  },
  {
   "cell_type": "code",
   "execution_count": null,
   "id": "084a3c20",
   "metadata": {},
   "outputs": [],
   "source": []
  }
 ],
 "metadata": {
  "kernelspec": {
   "display_name": "Python 3 (ipykernel)",
   "language": "python",
   "name": "python3"
  },
  "language_info": {
   "codemirror_mode": {
    "name": "ipython",
    "version": 3
   },
   "file_extension": ".py",
   "mimetype": "text/x-python",
   "name": "python",
   "nbconvert_exporter": "python",
   "pygments_lexer": "ipython3",
   "version": "3.10.9"
  }
 },
 "nbformat": 4,
 "nbformat_minor": 5
}
